{
 "cells": [
  {
   "cell_type": "code",
   "execution_count": 8,
   "metadata": {},
   "outputs": [],
   "source": [
    "def character_tagging(input_path, output_path):\n",
    "    with open(input_path, 'r', encoding='utf8') as inf:\n",
    "        with open(output_path, 'w', encoding='utf8') as outf:\n",
    "            for line in inf.readlines():\n",
    "                tagged_line=\"\"\n",
    "                word_list = line.split()\n",
    "                for word in word_list:\n",
    "                    for i in range(len(word)):\n",
    "                        if (i == 0):\n",
    "                            tagged_line += word[i]+\"\\B \"\n",
    "                        else:\n",
    "                            tagged_line += word[i]+\"\\I \"\n",
    "                outf.write(tagged_line+\"\\n\")\n",
    "                    "
   ]
  },
  {
   "cell_type": "code",
   "execution_count": 9,
   "metadata": {},
   "outputs": [],
   "source": [
    "in_path = './msr_training.utf8'\n",
    "out_path = './msr_trainning_tagged.utf8 '\n",
    "character_tagging(in_path, out_path)"
   ]
  },
  {
   "cell_type": "code",
   "execution_count": null,
   "metadata": {},
   "outputs": [],
   "source": []
  }
 ],
 "metadata": {
  "kernelspec": {
   "display_name": "Python 3",
   "language": "python",
   "name": "python3"
  },
  "language_info": {
   "codemirror_mode": {
    "name": "ipython",
    "version": 3
   },
   "file_extension": ".py",
   "mimetype": "text/x-python",
   "name": "python",
   "nbconvert_exporter": "python",
   "pygments_lexer": "ipython3",
   "version": "3.6.7"
  }
 },
 "nbformat": 4,
 "nbformat_minor": 2
}
