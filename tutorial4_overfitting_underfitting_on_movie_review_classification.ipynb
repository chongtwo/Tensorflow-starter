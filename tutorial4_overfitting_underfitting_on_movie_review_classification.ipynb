{
 "cells": [
  {
   "cell_type": "code",
   "execution_count": 1,
   "metadata": {},
   "outputs": [],
   "source": [
    "import tensorflow as tf\n",
    "from tensorflow import keras\n",
    "\n",
    "import numpy as np\n",
    "import matplotlib.pyplot as plt"
   ]
  },
  {
   "cell_type": "markdown",
   "metadata": {},
   "source": [
    "多热编码multi-hot-encoding的含义是，一段文本对应一个N维（例如10000维）的向量，\n",
    "每一维代表一个字，只要文中出现过该字，则该维即为1，没有出现则为0."
   ]
  },
  {
   "cell_type": "code",
   "execution_count": 3,
   "metadata": {},
   "outputs": [],
   "source": [
    "NUM_WORDS=10000\n",
    "(train_data, train_labels),(test_data, test_labels)=keras.datasets.imdb.load_data(num_words=NUM_WORDS)\n",
    "\n",
    "def multi_hot_sequences(sequences, dimension):\n",
    "    results = np.zeros((len(sequences), dimension))\n",
    "    for i, word_indices in enumerate(sequences):\n",
    "        results[i, word_indices] = 1 \n",
    "    return results\n",
    "\n",
    "train_data = multi_hot_sequences(train_data, dimension=NUM_WORDS)\n",
    "test_data = multi_hot_sequences(test_data, dimension=NUM_WORDS)"
   ]
  },
  {
   "cell_type": "code",
   "execution_count": 4,
   "metadata": {},
   "outputs": [
    {
     "data": {
      "text/plain": [
       "[<matplotlib.lines.Line2D at 0x188125196d8>]"
      ]
     },
     "execution_count": 4,
     "metadata": {},
     "output_type": "execute_result"
    },
    {
     "data": {
      "image/png": "[encoded data removed]",
      "text/plain": [
       "<Figure size 432x288 with 1 Axes>"
      ]
     },
     "metadata": {
      "needs_background": "light"
     },
     "output_type": "display_data"
    }
   ],
   "source": [
    "plt.plot(train_data[0])"
   ]
  },
  {
   "cell_type": "code",
   "execution_count": 6,
   "metadata": {},
   "outputs": [
    {
     "name": "stdout",
     "output_type": "stream",
     "text": [
      "_________________________________________________________________\n",
      "Layer (type)                 Output Shape              Param #   \n",
      "=================================================================\n",
      "dense_2 (Dense)              (None, 16)                160016    \n",
      "_________________________________________________________________\n",
      "dense_3 (Dense)              (None, 16)                272       \n",
      "_________________________________________________________________\n",
      "dense_4 (Dense)              (None, 1)                 17        \n",
      "=================================================================\n",
      "Total params: 160,305\n",
      "Trainable params: 160,305\n",
      "Non-trainable params: 0\n",
      "_________________________________________________________________\n"
     ]
    }
   ],
   "source": [
    "baseline_model = keras.Sequential([\n",
    "    keras.layers.Dense(16, activation=tf.nn.relu, input_shape=(NUM_WORDS,)),\n",
    "    keras.layers.Dense(16, activation=tf.nn.relu),\n",
    "    keras.layers.Dense(1, activation=tf.nn.sigmoid)\n",
    "])\n",
    "baseline_model.compile(optimizer='adam', loss='binary_crossentropy',\n",
    "                      metrics=['accuracy','binary_crossentropy'])\n",
    "baseline_model.summary()"
   ]
  },
  {
   "cell_type": "code",
   "execution_count": 7,
   "metadata": {},
   "outputs": [
    {
     "name": "stdout",
     "output_type": "stream",
     "text": [
      "Train on 25000 samples, validate on 25000 samples\n",
      "Epoch 1/20\n",
      " - 6s - loss: 0.5039 - acc: 0.7994 - binary_crossentropy: 0.5039 - val_loss: 0.3536 - val_acc: 0.8722 - val_binary_crossentropy: 0.3536\n",
      "Epoch 2/20\n",
      " - 4s - loss: 0.2619 - acc: 0.9070 - binary_crossentropy: 0.2619 - val_loss: 0.2872 - val_acc: 0.8865 - val_binary_crossentropy: 0.2872\n",
      "Epoch 3/20\n",
      " - 4s - loss: 0.1900 - acc: 0.9342 - binary_crossentropy: 0.1900 - val_loss: 0.2866 - val_acc: 0.8860 - val_binary_crossentropy: 0.2866\n",
      "Epoch 4/20\n",
      " - 4s - loss: 0.1505 - acc: 0.9490 - binary_crossentropy: 0.1505 - val_loss: 0.3083 - val_acc: 0.8803 - val_binary_crossentropy: 0.3083\n",
      "Epoch 5/20\n",
      " - 4s - loss: 0.1225 - acc: 0.9608 - binary_crossentropy: 0.1225 - val_loss: 0.3314 - val_acc: 0.8764 - val_binary_crossentropy: 0.3314\n",
      "Epoch 6/20\n",
      " - 4s - loss: 0.0987 - acc: 0.9707 - binary_crossentropy: 0.0987 - val_loss: 0.3587 - val_acc: 0.8723 - val_binary_crossentropy: 0.3587\n",
      "Epoch 7/20\n",
      " - 4s - loss: 0.0796 - acc: 0.9784 - binary_crossentropy: 0.0796 - val_loss: 0.3998 - val_acc: 0.8656 - val_binary_crossentropy: 0.3998\n",
      "Epoch 8/20\n",
      " - 4s - loss: 0.0640 - acc: 0.9837 - binary_crossentropy: 0.0640 - val_loss: 0.4303 - val_acc: 0.8646 - val_binary_crossentropy: 0.4303\n",
      "Epoch 9/20\n",
      " - 4s - loss: 0.0500 - acc: 0.9892 - binary_crossentropy: 0.0500 - val_loss: 0.4665 - val_acc: 0.8630 - val_binary_crossentropy: 0.4665\n",
      "Epoch 10/20\n",
      " - 4s - loss: 0.0377 - acc: 0.9934 - binary_crossentropy: 0.0377 - val_loss: 0.5025 - val_acc: 0.8599 - val_binary_crossentropy: 0.5025\n",
      "Epoch 11/20\n",
      " - 4s - loss: 0.0280 - acc: 0.9964 - binary_crossentropy: 0.0280 - val_loss: 0.5409 - val_acc: 0.8589 - val_binary_crossentropy: 0.5409\n",
      "Epoch 12/20\n",
      " - 4s - loss: 0.0204 - acc: 0.9978 - binary_crossentropy: 0.0204 - val_loss: 0.5792 - val_acc: 0.8573 - val_binary_crossentropy: 0.5792\n",
      "Epoch 13/20\n",
      " - 4s - loss: 0.0147 - acc: 0.9988 - binary_crossentropy: 0.0147 - val_loss: 0.6162 - val_acc: 0.8564 - val_binary_crossentropy: 0.6162\n",
      "Epoch 14/20\n",
      " - 4s - loss: 0.0110 - acc: 0.9994 - binary_crossentropy: 0.0110 - val_loss: 0.6510 - val_acc: 0.8552 - val_binary_crossentropy: 0.6510\n",
      "Epoch 15/20\n",
      " - 4s - loss: 0.0081 - acc: 0.9996 - binary_crossentropy: 0.0081 - val_loss: 0.6836 - val_acc: 0.8554 - val_binary_crossentropy: 0.6836\n",
      "Epoch 16/20\n",
      " - 4s - loss: 0.0063 - acc: 0.9998 - binary_crossentropy: 0.0063 - val_loss: 0.7115 - val_acc: 0.8552 - val_binary_crossentropy: 0.7115\n",
      "Epoch 17/20\n",
      " - 4s - loss: 0.0050 - acc: 0.9998 - binary_crossentropy: 0.0050 - val_loss: 0.7383 - val_acc: 0.8555 - val_binary_crossentropy: 0.7383\n",
      "Epoch 18/20\n",
      " - 4s - loss: 0.0041 - acc: 0.9998 - binary_crossentropy: 0.0041 - val_loss: 0.7592 - val_acc: 0.8550 - val_binary_crossentropy: 0.7592\n",
      "Epoch 19/20\n",
      " - 4s - loss: 0.0032 - acc: 0.9999 - binary_crossentropy: 0.0032 - val_loss: 0.7828 - val_acc: 0.8545 - val_binary_crossentropy: 0.7828\n",
      "Epoch 20/20\n",
      " - 4s - loss: 0.0026 - acc: 0.9999 - binary_crossentropy: 0.0026 - val_loss: 0.8015 - val_acc: 0.8540 - val_binary_crossentropy: 0.8015\n"
     ]
    }
   ],
   "source": [
    "baseline_history = baseline_model.fit(train_data,\n",
    "                                     train_labels,\n",
    "                                     epochs=20,\n",
    "                                     batch_size=512,\n",
    "                                     validation_data=(test_data, test_labels),\n",
    "                                     verbose=2)"
   ]
  },
  {
   "cell_type": "code",
   "execution_count": 8,
   "metadata": {},
   "outputs": [
    {
     "name": "stdout",
     "output_type": "stream",
     "text": [
      "_________________________________________________________________\n",
      "Layer (type)                 Output Shape              Param #   \n",
      "=================================================================\n",
      "dense_5 (Dense)              (None, 4)                 40004     \n",
      "_________________________________________________________________\n",
      "dense_6 (Dense)              (None, 4)                 20        \n",
      "_________________________________________________________________\n",
      "dense_7 (Dense)              (None, 1)                 5         \n",
      "=================================================================\n",
      "Total params: 40,029\n",
      "Trainable params: 40,029\n",
      "Non-trainable params: 0\n",
      "_________________________________________________________________\n"
     ]
    }
   ],
   "source": [
    "smaller_model = keras.Sequential([\n",
    "    keras.layers.Dense(4, activation=tf.nn.relu, input_shape=(NUM_WORDS,)),\n",
    "    keras.layers.Dense(4, activation=tf.nn.relu),\n",
    "    keras.layers.Dense(1, activation=tf.nn.sigmoid)\n",
    "])\n",
    "smaller_model.compile(optimizer='adam',\n",
    "                     loss='binary_crossentropy',\n",
    "                     metrics=['accuracy', 'binary_crossentropy'])\n",
    "\n",
    "smaller_model.summary()"
   ]
  },
  {
   "cell_type": "code",
   "execution_count": 9,
   "metadata": {},
   "outputs": [
    {
     "name": "stdout",
     "output_type": "stream",
     "text": [
      "Train on 25000 samples, validate on 25000 samples\n",
      "Epoch 1/20\n",
      " - 5s - loss: 0.5573 - acc: 0.7686 - binary_crossentropy: 0.5573 - val_loss: 0.4358 - val_acc: 0.8605 - val_binary_crossentropy: 0.4358\n",
      "Epoch 2/20\n",
      " - 4s - loss: 0.3423 - acc: 0.8968 - binary_crossentropy: 0.3423 - val_loss: 0.3335 - val_acc: 0.8824 - val_binary_crossentropy: 0.3335\n",
      "Epoch 3/20\n",
      " - 4s - loss: 0.2543 - acc: 0.9211 - binary_crossentropy: 0.2543 - val_loss: 0.2973 - val_acc: 0.8864 - val_binary_crossentropy: 0.2973\n",
      "Epoch 4/20\n",
      " - 4s - loss: 0.2083 - acc: 0.9337 - binary_crossentropy: 0.2083 - val_loss: 0.2876 - val_acc: 0.8871 - val_binary_crossentropy: 0.2876\n",
      "Epoch 5/20\n",
      " - 4s - loss: 0.1788 - acc: 0.9440 - binary_crossentropy: 0.1788 - val_loss: 0.2895 - val_acc: 0.8834 - val_binary_crossentropy: 0.2895\n",
      "Epoch 6/20\n",
      " - 4s - loss: 0.1569 - acc: 0.9507 - binary_crossentropy: 0.1569 - val_loss: 0.2917 - val_acc: 0.8844 - val_binary_crossentropy: 0.2917\n",
      "Epoch 7/20\n",
      " - 4s - loss: 0.1395 - acc: 0.9584 - binary_crossentropy: 0.1395 - val_loss: 0.3000 - val_acc: 0.8815 - val_binary_crossentropy: 0.3000\n",
      "Epoch 8/20\n",
      " - 4s - loss: 0.1256 - acc: 0.9629 - binary_crossentropy: 0.1256 - val_loss: 0.3122 - val_acc: 0.8786 - val_binary_crossentropy: 0.3122\n",
      "Epoch 9/20\n",
      " - 4s - loss: 0.1140 - acc: 0.9664 - binary_crossentropy: 0.1140 - val_loss: 0.3242 - val_acc: 0.8756 - val_binary_crossentropy: 0.3242\n",
      "Epoch 10/20\n",
      " - 4s - loss: 0.1028 - acc: 0.9706 - binary_crossentropy: 0.1028 - val_loss: 0.3378 - val_acc: 0.8732 - val_binary_crossentropy: 0.3378\n",
      "Epoch 11/20\n",
      " - 4s - loss: 0.0934 - acc: 0.9739 - binary_crossentropy: 0.0934 - val_loss: 0.3541 - val_acc: 0.8712 - val_binary_crossentropy: 0.3541\n",
      "Epoch 12/20\n",
      " - 4s - loss: 0.0842 - acc: 0.9775 - binary_crossentropy: 0.0842 - val_loss: 0.3689 - val_acc: 0.8689 - val_binary_crossentropy: 0.3689\n",
      "Epoch 13/20\n",
      " - 4s - loss: 0.0763 - acc: 0.9806 - binary_crossentropy: 0.0763 - val_loss: 0.3848 - val_acc: 0.8673 - val_binary_crossentropy: 0.3848\n",
      "Epoch 14/20\n",
      " - 4s - loss: 0.0691 - acc: 0.9845 - binary_crossentropy: 0.0691 - val_loss: 0.4043 - val_acc: 0.8652 - val_binary_crossentropy: 0.4043\n",
      "Epoch 15/20\n",
      " - 4s - loss: 0.0623 - acc: 0.9866 - binary_crossentropy: 0.0623 - val_loss: 0.4182 - val_acc: 0.8647 - val_binary_crossentropy: 0.4182\n",
      "Epoch 16/20\n",
      " - 4s - loss: 0.0563 - acc: 0.9892 - binary_crossentropy: 0.0563 - val_loss: 0.4366 - val_acc: 0.8636 - val_binary_crossentropy: 0.4366\n",
      "Epoch 17/20\n",
      " - 4s - loss: 0.0509 - acc: 0.9904 - binary_crossentropy: 0.0509 - val_loss: 0.4558 - val_acc: 0.8619 - val_binary_crossentropy: 0.4558\n",
      "Epoch 18/20\n",
      " - 4s - loss: 0.0455 - acc: 0.9922 - binary_crossentropy: 0.0455 - val_loss: 0.4837 - val_acc: 0.8594 - val_binary_crossentropy: 0.4837\n",
      "Epoch 19/20\n",
      " - 4s - loss: 0.0406 - acc: 0.9936 - binary_crossentropy: 0.0406 - val_loss: 0.4950 - val_acc: 0.8594 - val_binary_crossentropy: 0.4950\n",
      "Epoch 20/20\n",
      " - 4s - loss: 0.0364 - acc: 0.9946 - binary_crossentropy: 0.0364 - val_loss: 0.5148 - val_acc: 0.8594 - val_binary_crossentropy: 0.5148\n"
     ]
    }
   ],
   "source": [
    "smaller_history = smaller_model.fit(train_data,\n",
    "                                   train_labels,\n",
    "                                   epochs=20,\n",
    "                                   batch_size=512,\n",
    "                                   validation_data=(test_data, test_labels),\n",
    "                                   verbose=2)"
   ]
  },
  {
   "cell_type": "code",
   "execution_count": 10,
   "metadata": {},
   "outputs": [
    {
     "name": "stdout",
     "output_type": "stream",
     "text": [
      "_________________________________________________________________\n",
      "Layer (type)                 Output Shape              Param #   \n",
      "=================================================================\n",
      "dense_8 (Dense)              (None, 512)               5120512   \n",
      "_________________________________________________________________\n",
      "dense_9 (Dense)              (None, 512)               262656    \n",
      "_________________________________________________________________\n",
      "dense_10 (Dense)             (None, 1)                 513       \n",
      "=================================================================\n",
      "Total params: 5,383,681\n",
      "Trainable params: 5,383,681\n",
      "Non-trainable params: 0\n",
      "_________________________________________________________________\n"
     ]
    }
   ],
   "source": [
    "bigger_model = keras.models.Sequential([\n",
    "    keras.layers.Dense(512, activation=tf.nn.relu, input_shape=(NUM_WORDS,)),\n",
    "    keras.layers.Dense(512, activation=tf.nn.relu),\n",
    "    keras.layers.Dense(1, activation=tf.nn.sigmoid)\n",
    "])\n",
    "\n",
    "bigger_model.compile(optimizer='adam',\n",
    "                    loss='binary_crossentropy',\n",
    "                    metrics=['accuracy','binary_crossentropy'])\n",
    "\n",
    "bigger_model.summary()"
   ]
  },
  {
   "cell_type": "code",
   "execution_count": 12,
   "metadata": {},
   "outputs": [
    {
     "name": "stdout",
     "output_type": "stream",
     "text": [
      "Train on 25000 samples, validate on 25000 samples\n",
      "Epoch 1/20\n",
      " - 13s - loss: 0.3469 - acc: 0.8532 - binary_crossentropy: 0.3469 - val_loss: 0.3058 - val_acc: 0.8759 - val_binary_crossentropy: 0.3058\n",
      "Epoch 2/20\n",
      " - 12s - loss: 0.1470 - acc: 0.9470 - binary_crossentropy: 0.1470 - val_loss: 0.3618 - val_acc: 0.8631 - val_binary_crossentropy: 0.3618\n",
      "Epoch 3/20\n",
      " - 12s - loss: 0.0613 - acc: 0.9805 - binary_crossentropy: 0.0613 - val_loss: 0.4122 - val_acc: 0.8668 - val_binary_crossentropy: 0.4122\n",
      "Epoch 4/20\n",
      " - 13s - loss: 0.0126 - acc: 0.9977 - binary_crossentropy: 0.0126 - val_loss: 0.5795 - val_acc: 0.8662 - val_binary_crossentropy: 0.5795\n",
      "Epoch 5/20\n",
      " - 13s - loss: 0.0021 - acc: 0.9999 - binary_crossentropy: 0.0021 - val_loss: 0.6660 - val_acc: 0.8694 - val_binary_crossentropy: 0.6660\n",
      "Epoch 6/20\n",
      " - 14s - loss: 9.3413e-04 - acc: 1.0000 - binary_crossentropy: 9.3413e-04 - val_loss: 0.6985 - val_acc: 0.8685 - val_binary_crossentropy: 0.6985\n",
      "Epoch 7/20\n",
      " - 13s - loss: 2.2159e-04 - acc: 1.0000 - binary_crossentropy: 2.2159e-04 - val_loss: 0.7313 - val_acc: 0.8692 - val_binary_crossentropy: 0.7313\n",
      "Epoch 8/20\n",
      " - 13s - loss: 1.4642e-04 - acc: 1.0000 - binary_crossentropy: 1.4642e-04 - val_loss: 0.7550 - val_acc: 0.8696 - val_binary_crossentropy: 0.7550\n",
      "Epoch 9/20\n",
      " - 13s - loss: 1.0863e-04 - acc: 1.0000 - binary_crossentropy: 1.0863e-04 - val_loss: 0.7736 - val_acc: 0.8691 - val_binary_crossentropy: 0.7736\n",
      "Epoch 10/20\n",
      " - 13s - loss: 8.5074e-05 - acc: 1.0000 - binary_crossentropy: 8.5074e-05 - val_loss: 0.7879 - val_acc: 0.8697 - val_binary_crossentropy: 0.7879\n",
      "Epoch 11/20\n",
      " - 13s - loss: 6.8869e-05 - acc: 1.0000 - binary_crossentropy: 6.8869e-05 - val_loss: 0.8008 - val_acc: 0.8698 - val_binary_crossentropy: 0.8008\n",
      "Epoch 12/20\n",
      " - 13s - loss: 5.6835e-05 - acc: 1.0000 - binary_crossentropy: 5.6835e-05 - val_loss: 0.8122 - val_acc: 0.8698 - val_binary_crossentropy: 0.8122\n",
      "Epoch 13/20\n",
      " - 13s - loss: 4.7853e-05 - acc: 1.0000 - binary_crossentropy: 4.7853e-05 - val_loss: 0.8220 - val_acc: 0.8703 - val_binary_crossentropy: 0.8220\n",
      "Epoch 14/20\n",
      " - 13s - loss: 4.0872e-05 - acc: 1.0000 - binary_crossentropy: 4.0872e-05 - val_loss: 0.8312 - val_acc: 0.8700 - val_binary_crossentropy: 0.8312\n",
      "Epoch 15/20\n",
      " - 13s - loss: 3.5291e-05 - acc: 1.0000 - binary_crossentropy: 3.5291e-05 - val_loss: 0.8397 - val_acc: 0.8701 - val_binary_crossentropy: 0.8397\n",
      "Epoch 16/20\n",
      " - 13s - loss: 3.0780e-05 - acc: 1.0000 - binary_crossentropy: 3.0780e-05 - val_loss: 0.8469 - val_acc: 0.8705 - val_binary_crossentropy: 0.8469\n",
      "Epoch 17/20\n",
      " - 13s - loss: 2.7076e-05 - acc: 1.0000 - binary_crossentropy: 2.7076e-05 - val_loss: 0.8546 - val_acc: 0.8700 - val_binary_crossentropy: 0.8546\n",
      "Epoch 18/20\n",
      " - 13s - loss: 2.3995e-05 - acc: 1.0000 - binary_crossentropy: 2.3995e-05 - val_loss: 0.8610 - val_acc: 0.8702 - val_binary_crossentropy: 0.8610\n",
      "Epoch 19/20\n",
      " - 13s - loss: 2.1364e-05 - acc: 1.0000 - binary_crossentropy: 2.1364e-05 - val_loss: 0.8672 - val_acc: 0.8702 - val_binary_crossentropy: 0.8672\n",
      "Epoch 20/20\n",
      " - 14s - loss: 1.9158e-05 - acc: 1.0000 - binary_crossentropy: 1.9158e-05 - val_loss: 0.8736 - val_acc: 0.8702 - val_binary_crossentropy: 0.8736\n"
     ]
    }
   ],
   "source": [
    "bigger_history=bigger_model.fit(train_data,\n",
    "                train_labels,\n",
    "                epochs=20,\n",
    "                batch_size=512,\n",
    "                validation_data=(test_data, test_labels),\n",
    "                verbose=2)"
   ]
  },
  {
   "cell_type": "code",
   "execution_count": 14,
   "metadata": {},
   "outputs": [],
   "source": [
    "baseline_model.save(\"tt4_model.h5\")\n",
    "smaller_model.save(\"tt4_smaller_model.h5\")\n",
    "bigger_model.save(\"tt4_bigger_model.h5\")"
   ]
  },
  {
   "cell_type": "code",
   "execution_count": null,
   "metadata": {},
   "outputs": [],
   "source": []
  }
 ],
 "metadata": {
  "kernelspec": {
   "display_name": "Python 3",
   "language": "python",
   "name": "python3"
  },
  "language_info": {
   "codemirror_mode": {
    "name": "ipython",
    "version": 3
   },
   "file_extension": ".py",
   "mimetype": "text/x-python",
   "name": "python",
   "nbconvert_exporter": "python",
   "pygments_lexer": "ipython3",
   "version": "3.6.7"
  }
 },
 "nbformat": 4,
 "nbformat_minor": 2
}
